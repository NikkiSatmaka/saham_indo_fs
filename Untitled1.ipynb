{
 "cells": [
  {
   "cell_type": "code",
   "execution_count": 1,
   "metadata": {},
   "outputs": [],
   "source": [
    "import os"
   ]
  },
  {
   "cell_type": "code",
   "execution_count": 19,
   "metadata": {},
   "outputs": [
    {
     "name": "stdout",
     "output_type": "stream",
     "text": [
      "AALI.xlsx\n"
     ]
    }
   ],
   "source": [
    "for file in os.listdir('lap_keuangan/PDF/'):\n",
    "    if len(file.split('.')[0]) != 7:\n",
    "        print(file)\n",
    "        \n",
    "for file in os.listdir('lap_keuangan/XLSX MERGE 3 TO 1/'):\n",
    "    if len(file.split('.')[0]) != 7:\n",
    "        print(file)\n",
    "\n",
    "for file in os.listdir('lap_keuangan/XLSX/'):\n",
    "    if len(file.split('.')[0]) != 7:\n",
    "        print(file)\n",
    "                       \n",
    "for file in os.listdir('lap_keuangan/ZIP/'):\n",
    "    if len(file.split('.')[0]) != 7:\n",
    "        print(file)"
   ]
  },
  {
   "cell_type": "code",
   "execution_count": null,
   "metadata": {},
   "outputs": [],
   "source": []
  }
 ],
 "metadata": {
  "kernelspec": {
   "display_name": "Python 3",
   "language": "python",
   "name": "python3"
  },
  "language_info": {
   "codemirror_mode": {
    "name": "ipython",
    "version": 3
   },
   "file_extension": ".py",
   "mimetype": "text/x-python",
   "name": "python",
   "nbconvert_exporter": "python",
   "pygments_lexer": "ipython3",
   "version": "3.8.5"
  }
 },
 "nbformat": 4,
 "nbformat_minor": 4
}
